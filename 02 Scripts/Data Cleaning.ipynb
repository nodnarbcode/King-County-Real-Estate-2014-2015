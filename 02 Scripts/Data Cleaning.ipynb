{
 "cells": [
  {
   "cell_type": "code",
   "execution_count": 1,
   "id": "3e784a63-f241-401f-a6af-9a1cae3763f6",
   "metadata": {},
   "outputs": [],
   "source": [
    "# Import libraries\n",
    "import pandas as pd\n",
    "import numpy as np\n",
    "import os"
   ]
  },
  {
   "cell_type": "code",
   "execution_count": 2,
   "id": "3e7eb97b-3b32-420c-ad83-c564af998ebc",
   "metadata": {},
   "outputs": [],
   "source": [
    "# Path assignment\n",
    "path = r'C:\\Users\\nodnarb\\Documents\\Electric Vehicles Project'"
   ]
  },
  {
   "cell_type": "code",
   "execution_count": 3,
   "id": "ff70185c-469b-40aa-9691-00de6bf01bd8",
   "metadata": {},
   "outputs": [],
   "source": [
    "# Importing data set\n",
    "\n",
    "df = pd.read_csv(os.path.join(path, '01 Data', 'electric_vehicles.csv'))"
   ]
  },
  {
   "cell_type": "code",
   "execution_count": 4,
   "id": "dec3023f-e553-4c67-82f5-bda98b69da1a",
   "metadata": {
    "scrolled": true
   },
   "outputs": [
    {
     "data": {
      "text/html": [
       "<div>\n",
       "<style scoped>\n",
       "    .dataframe tbody tr th:only-of-type {\n",
       "        vertical-align: middle;\n",
       "    }\n",
       "\n",
       "    .dataframe tbody tr th {\n",
       "        vertical-align: top;\n",
       "    }\n",
       "\n",
       "    .dataframe thead th {\n",
       "        text-align: right;\n",
       "    }\n",
       "</style>\n",
       "<table border=\"1\" class=\"dataframe\">\n",
       "  <thead>\n",
       "    <tr style=\"text-align: right;\">\n",
       "      <th></th>\n",
       "      <th>VIN (1-10)</th>\n",
       "      <th>County</th>\n",
       "      <th>City</th>\n",
       "      <th>State</th>\n",
       "      <th>Postal Code</th>\n",
       "      <th>Model Year</th>\n",
       "      <th>Make</th>\n",
       "      <th>Model</th>\n",
       "      <th>Electric Vehicle Type</th>\n",
       "      <th>Clean Alternative Fuel Vehicle (CAFV) Eligibility</th>\n",
       "      <th>Electric Range</th>\n",
       "      <th>Base MSRP</th>\n",
       "      <th>Legislative District</th>\n",
       "      <th>DOL Vehicle ID</th>\n",
       "      <th>Vehicle Location</th>\n",
       "      <th>Electric Utility</th>\n",
       "      <th>2020 Census Tract</th>\n",
       "    </tr>\n",
       "  </thead>\n",
       "  <tbody>\n",
       "    <tr>\n",
       "      <th>0</th>\n",
       "      <td>JTMAB3FV3P</td>\n",
       "      <td>Kitsap</td>\n",
       "      <td>Seabeck</td>\n",
       "      <td>WA</td>\n",
       "      <td>98380.0</td>\n",
       "      <td>2023</td>\n",
       "      <td>TOYOTA</td>\n",
       "      <td>RAV4 PRIME</td>\n",
       "      <td>Plug-in Hybrid Electric Vehicle (PHEV)</td>\n",
       "      <td>Clean Alternative Fuel Vehicle Eligible</td>\n",
       "      <td>42.0</td>\n",
       "      <td>0.0</td>\n",
       "      <td>35.0</td>\n",
       "      <td>240684006</td>\n",
       "      <td>POINT (-122.8728334 47.5798304)</td>\n",
       "      <td>PUGET SOUND ENERGY INC</td>\n",
       "      <td>5.303509e+10</td>\n",
       "    </tr>\n",
       "    <tr>\n",
       "      <th>1</th>\n",
       "      <td>1N4AZ1CP6J</td>\n",
       "      <td>Kitsap</td>\n",
       "      <td>Bremerton</td>\n",
       "      <td>WA</td>\n",
       "      <td>98312.0</td>\n",
       "      <td>2018</td>\n",
       "      <td>NISSAN</td>\n",
       "      <td>LEAF</td>\n",
       "      <td>Battery Electric Vehicle (BEV)</td>\n",
       "      <td>Clean Alternative Fuel Vehicle Eligible</td>\n",
       "      <td>151.0</td>\n",
       "      <td>0.0</td>\n",
       "      <td>35.0</td>\n",
       "      <td>474183811</td>\n",
       "      <td>POINT (-122.6961203 47.5759584)</td>\n",
       "      <td>PUGET SOUND ENERGY INC</td>\n",
       "      <td>5.303508e+10</td>\n",
       "    </tr>\n",
       "    <tr>\n",
       "      <th>2</th>\n",
       "      <td>5YJ3E1EA4L</td>\n",
       "      <td>King</td>\n",
       "      <td>Seattle</td>\n",
       "      <td>WA</td>\n",
       "      <td>98101.0</td>\n",
       "      <td>2020</td>\n",
       "      <td>TESLA</td>\n",
       "      <td>MODEL 3</td>\n",
       "      <td>Battery Electric Vehicle (BEV)</td>\n",
       "      <td>Clean Alternative Fuel Vehicle Eligible</td>\n",
       "      <td>266.0</td>\n",
       "      <td>0.0</td>\n",
       "      <td>43.0</td>\n",
       "      <td>113120017</td>\n",
       "      <td>POINT (-122.3340795 47.6099315)</td>\n",
       "      <td>CITY OF SEATTLE - (WA)|CITY OF TACOMA - (WA)</td>\n",
       "      <td>5.303301e+10</td>\n",
       "    </tr>\n",
       "    <tr>\n",
       "      <th>3</th>\n",
       "      <td>1N4AZ0CP8E</td>\n",
       "      <td>King</td>\n",
       "      <td>Seattle</td>\n",
       "      <td>WA</td>\n",
       "      <td>98125.0</td>\n",
       "      <td>2014</td>\n",
       "      <td>NISSAN</td>\n",
       "      <td>LEAF</td>\n",
       "      <td>Battery Electric Vehicle (BEV)</td>\n",
       "      <td>Clean Alternative Fuel Vehicle Eligible</td>\n",
       "      <td>84.0</td>\n",
       "      <td>0.0</td>\n",
       "      <td>46.0</td>\n",
       "      <td>108188713</td>\n",
       "      <td>POINT (-122.304356 47.715668)</td>\n",
       "      <td>CITY OF SEATTLE - (WA)|CITY OF TACOMA - (WA)</td>\n",
       "      <td>5.303300e+10</td>\n",
       "    </tr>\n",
       "    <tr>\n",
       "      <th>4</th>\n",
       "      <td>1G1FX6S00H</td>\n",
       "      <td>Thurston</td>\n",
       "      <td>Yelm</td>\n",
       "      <td>WA</td>\n",
       "      <td>98597.0</td>\n",
       "      <td>2017</td>\n",
       "      <td>CHEVROLET</td>\n",
       "      <td>BOLT EV</td>\n",
       "      <td>Battery Electric Vehicle (BEV)</td>\n",
       "      <td>Clean Alternative Fuel Vehicle Eligible</td>\n",
       "      <td>238.0</td>\n",
       "      <td>0.0</td>\n",
       "      <td>20.0</td>\n",
       "      <td>176448940</td>\n",
       "      <td>POINT (-122.5715761 46.9095798)</td>\n",
       "      <td>PUGET SOUND ENERGY INC</td>\n",
       "      <td>5.306701e+10</td>\n",
       "    </tr>\n",
       "  </tbody>\n",
       "</table>\n",
       "</div>"
      ],
      "text/plain": [
       "   VIN (1-10)    County       City State  Postal Code  Model Year       Make  \\\n",
       "0  JTMAB3FV3P    Kitsap    Seabeck    WA      98380.0        2023     TOYOTA   \n",
       "1  1N4AZ1CP6J    Kitsap  Bremerton    WA      98312.0        2018     NISSAN   \n",
       "2  5YJ3E1EA4L      King    Seattle    WA      98101.0        2020      TESLA   \n",
       "3  1N4AZ0CP8E      King    Seattle    WA      98125.0        2014     NISSAN   \n",
       "4  1G1FX6S00H  Thurston       Yelm    WA      98597.0        2017  CHEVROLET   \n",
       "\n",
       "        Model                   Electric Vehicle Type  \\\n",
       "0  RAV4 PRIME  Plug-in Hybrid Electric Vehicle (PHEV)   \n",
       "1        LEAF          Battery Electric Vehicle (BEV)   \n",
       "2     MODEL 3          Battery Electric Vehicle (BEV)   \n",
       "3        LEAF          Battery Electric Vehicle (BEV)   \n",
       "4     BOLT EV          Battery Electric Vehicle (BEV)   \n",
       "\n",
       "  Clean Alternative Fuel Vehicle (CAFV) Eligibility  Electric Range  \\\n",
       "0           Clean Alternative Fuel Vehicle Eligible            42.0   \n",
       "1           Clean Alternative Fuel Vehicle Eligible           151.0   \n",
       "2           Clean Alternative Fuel Vehicle Eligible           266.0   \n",
       "3           Clean Alternative Fuel Vehicle Eligible            84.0   \n",
       "4           Clean Alternative Fuel Vehicle Eligible           238.0   \n",
       "\n",
       "   Base MSRP  Legislative District  DOL Vehicle ID  \\\n",
       "0        0.0                  35.0       240684006   \n",
       "1        0.0                  35.0       474183811   \n",
       "2        0.0                  43.0       113120017   \n",
       "3        0.0                  46.0       108188713   \n",
       "4        0.0                  20.0       176448940   \n",
       "\n",
       "                  Vehicle Location  \\\n",
       "0  POINT (-122.8728334 47.5798304)   \n",
       "1  POINT (-122.6961203 47.5759584)   \n",
       "2  POINT (-122.3340795 47.6099315)   \n",
       "3    POINT (-122.304356 47.715668)   \n",
       "4  POINT (-122.5715761 46.9095798)   \n",
       "\n",
       "                               Electric Utility  2020 Census Tract  \n",
       "0                        PUGET SOUND ENERGY INC       5.303509e+10  \n",
       "1                        PUGET SOUND ENERGY INC       5.303508e+10  \n",
       "2  CITY OF SEATTLE - (WA)|CITY OF TACOMA - (WA)       5.303301e+10  \n",
       "3  CITY OF SEATTLE - (WA)|CITY OF TACOMA - (WA)       5.303300e+10  \n",
       "4                        PUGET SOUND ENERGY INC       5.306701e+10  "
      ]
     },
     "execution_count": 4,
     "metadata": {},
     "output_type": "execute_result"
    }
   ],
   "source": [
    "# Display data\n",
    "\n",
    "df.head()"
   ]
  },
  {
   "cell_type": "markdown",
   "id": "f8c3b94d-6243-429b-823f-58b34552953a",
   "metadata": {},
   "source": [
    "#### Data Cleaning"
   ]
  },
  {
   "cell_type": "markdown",
   "id": "32f93671-c23d-4b7f-adad-e9620cccdcb0",
   "metadata": {},
   "source": [
    "##### 1. Removing unneccessary columns"
   ]
  },
  {
   "cell_type": "code",
   "execution_count": 76,
   "id": "8d8dfe43-a9c9-473f-be72-5e827ed36b5f",
   "metadata": {},
   "outputs": [],
   "source": [
    "# Removing VIN, Legislative District, DOL Vehicle ID, and 2020 Census Tract columns. \n",
    "\n",
    "df_new = df.drop(columns = ['VIN (1-10)', 'Legislative District', 'DOL Vehicle ID', '2020 Census Tract','Base MSRP'])"
   ]
  },
  {
   "cell_type": "code",
   "execution_count": 78,
   "id": "8fffd4cd-c568-42c1-8c59-6b85b928ffd3",
   "metadata": {},
   "outputs": [
    {
     "data": {
      "text/html": [
       "<div>\n",
       "<style scoped>\n",
       "    .dataframe tbody tr th:only-of-type {\n",
       "        vertical-align: middle;\n",
       "    }\n",
       "\n",
       "    .dataframe tbody tr th {\n",
       "        vertical-align: top;\n",
       "    }\n",
       "\n",
       "    .dataframe thead th {\n",
       "        text-align: right;\n",
       "    }\n",
       "</style>\n",
       "<table border=\"1\" class=\"dataframe\">\n",
       "  <thead>\n",
       "    <tr style=\"text-align: right;\">\n",
       "      <th></th>\n",
       "      <th>County</th>\n",
       "      <th>City</th>\n",
       "      <th>State</th>\n",
       "      <th>Postal Code</th>\n",
       "      <th>Model Year</th>\n",
       "      <th>Make</th>\n",
       "      <th>Model</th>\n",
       "      <th>Electric Vehicle Type</th>\n",
       "      <th>Clean Alternative Fuel Vehicle (CAFV) Eligibility</th>\n",
       "      <th>Electric Range</th>\n",
       "      <th>Vehicle Location</th>\n",
       "      <th>Electric Utility</th>\n",
       "    </tr>\n",
       "  </thead>\n",
       "  <tbody>\n",
       "    <tr>\n",
       "      <th>0</th>\n",
       "      <td>Kitsap</td>\n",
       "      <td>Seabeck</td>\n",
       "      <td>WA</td>\n",
       "      <td>98380.0</td>\n",
       "      <td>2023</td>\n",
       "      <td>TOYOTA</td>\n",
       "      <td>RAV4 PRIME</td>\n",
       "      <td>Plug-in Hybrid Electric Vehicle (PHEV)</td>\n",
       "      <td>Clean Alternative Fuel Vehicle Eligible</td>\n",
       "      <td>42.0</td>\n",
       "      <td>POINT (-122.8728334 47.5798304)</td>\n",
       "      <td>PUGET SOUND ENERGY INC</td>\n",
       "    </tr>\n",
       "    <tr>\n",
       "      <th>1</th>\n",
       "      <td>Kitsap</td>\n",
       "      <td>Bremerton</td>\n",
       "      <td>WA</td>\n",
       "      <td>98312.0</td>\n",
       "      <td>2018</td>\n",
       "      <td>NISSAN</td>\n",
       "      <td>LEAF</td>\n",
       "      <td>Battery Electric Vehicle (BEV)</td>\n",
       "      <td>Clean Alternative Fuel Vehicle Eligible</td>\n",
       "      <td>151.0</td>\n",
       "      <td>POINT (-122.6961203 47.5759584)</td>\n",
       "      <td>PUGET SOUND ENERGY INC</td>\n",
       "    </tr>\n",
       "    <tr>\n",
       "      <th>2</th>\n",
       "      <td>King</td>\n",
       "      <td>Seattle</td>\n",
       "      <td>WA</td>\n",
       "      <td>98101.0</td>\n",
       "      <td>2020</td>\n",
       "      <td>TESLA</td>\n",
       "      <td>MODEL 3</td>\n",
       "      <td>Battery Electric Vehicle (BEV)</td>\n",
       "      <td>Clean Alternative Fuel Vehicle Eligible</td>\n",
       "      <td>266.0</td>\n",
       "      <td>POINT (-122.3340795 47.6099315)</td>\n",
       "      <td>CITY OF SEATTLE - (WA)|CITY OF TACOMA - (WA)</td>\n",
       "    </tr>\n",
       "    <tr>\n",
       "      <th>3</th>\n",
       "      <td>King</td>\n",
       "      <td>Seattle</td>\n",
       "      <td>WA</td>\n",
       "      <td>98125.0</td>\n",
       "      <td>2014</td>\n",
       "      <td>NISSAN</td>\n",
       "      <td>LEAF</td>\n",
       "      <td>Battery Electric Vehicle (BEV)</td>\n",
       "      <td>Clean Alternative Fuel Vehicle Eligible</td>\n",
       "      <td>84.0</td>\n",
       "      <td>POINT (-122.304356 47.715668)</td>\n",
       "      <td>CITY OF SEATTLE - (WA)|CITY OF TACOMA - (WA)</td>\n",
       "    </tr>\n",
       "    <tr>\n",
       "      <th>4</th>\n",
       "      <td>Thurston</td>\n",
       "      <td>Yelm</td>\n",
       "      <td>WA</td>\n",
       "      <td>98597.0</td>\n",
       "      <td>2017</td>\n",
       "      <td>CHEVROLET</td>\n",
       "      <td>BOLT EV</td>\n",
       "      <td>Battery Electric Vehicle (BEV)</td>\n",
       "      <td>Clean Alternative Fuel Vehicle Eligible</td>\n",
       "      <td>238.0</td>\n",
       "      <td>POINT (-122.5715761 46.9095798)</td>\n",
       "      <td>PUGET SOUND ENERGY INC</td>\n",
       "    </tr>\n",
       "  </tbody>\n",
       "</table>\n",
       "</div>"
      ],
      "text/plain": [
       "     County       City State  Postal Code  Model Year       Make       Model  \\\n",
       "0    Kitsap    Seabeck    WA      98380.0        2023     TOYOTA  RAV4 PRIME   \n",
       "1    Kitsap  Bremerton    WA      98312.0        2018     NISSAN        LEAF   \n",
       "2      King    Seattle    WA      98101.0        2020      TESLA     MODEL 3   \n",
       "3      King    Seattle    WA      98125.0        2014     NISSAN        LEAF   \n",
       "4  Thurston       Yelm    WA      98597.0        2017  CHEVROLET     BOLT EV   \n",
       "\n",
       "                    Electric Vehicle Type  \\\n",
       "0  Plug-in Hybrid Electric Vehicle (PHEV)   \n",
       "1          Battery Electric Vehicle (BEV)   \n",
       "2          Battery Electric Vehicle (BEV)   \n",
       "3          Battery Electric Vehicle (BEV)   \n",
       "4          Battery Electric Vehicle (BEV)   \n",
       "\n",
       "  Clean Alternative Fuel Vehicle (CAFV) Eligibility  Electric Range  \\\n",
       "0           Clean Alternative Fuel Vehicle Eligible            42.0   \n",
       "1           Clean Alternative Fuel Vehicle Eligible           151.0   \n",
       "2           Clean Alternative Fuel Vehicle Eligible           266.0   \n",
       "3           Clean Alternative Fuel Vehicle Eligible            84.0   \n",
       "4           Clean Alternative Fuel Vehicle Eligible           238.0   \n",
       "\n",
       "                  Vehicle Location  \\\n",
       "0  POINT (-122.8728334 47.5798304)   \n",
       "1  POINT (-122.6961203 47.5759584)   \n",
       "2  POINT (-122.3340795 47.6099315)   \n",
       "3    POINT (-122.304356 47.715668)   \n",
       "4  POINT (-122.5715761 46.9095798)   \n",
       "\n",
       "                               Electric Utility  \n",
       "0                        PUGET SOUND ENERGY INC  \n",
       "1                        PUGET SOUND ENERGY INC  \n",
       "2  CITY OF SEATTLE - (WA)|CITY OF TACOMA - (WA)  \n",
       "3  CITY OF SEATTLE - (WA)|CITY OF TACOMA - (WA)  \n",
       "4                        PUGET SOUND ENERGY INC  "
      ]
     },
     "execution_count": 78,
     "metadata": {},
     "output_type": "execute_result"
    }
   ],
   "source": [
    "df_new.head()"
   ]
  },
  {
   "cell_type": "code",
   "execution_count": 80,
   "id": "809f3ce7-1587-4e94-b330-0adb38f62b62",
   "metadata": {},
   "outputs": [
    {
     "data": {
      "text/plain": [
       "(205439, 12)"
      ]
     },
     "execution_count": 80,
     "metadata": {},
     "output_type": "execute_result"
    }
   ],
   "source": [
    "df_new.shape"
   ]
  },
  {
   "cell_type": "markdown",
   "id": "3c9718c6-0f37-4b20-9436-4863a514e62b",
   "metadata": {},
   "source": [
    "##### 2. Checking for null values"
   ]
  },
  {
   "cell_type": "code",
   "execution_count": 58,
   "id": "3fec7b73-0a77-4d08-ba7f-56c8931e553c",
   "metadata": {},
   "outputs": [
    {
     "data": {
      "text/plain": [
       "County                                               3\n",
       "City                                                 3\n",
       "State                                                0\n",
       "Postal Code                                          3\n",
       "Model Year                                           0\n",
       "Make                                                 0\n",
       "Model                                                1\n",
       "Electric Vehicle Type                                0\n",
       "Clean Alternative Fuel Vehicle (CAFV) Eligibility    0\n",
       "Electric Range                                       8\n",
       "Vehicle Location                                     8\n",
       "Electric Utility                                     3\n",
       "dtype: int64"
      ]
     },
     "execution_count": 58,
     "metadata": {},
     "output_type": "execute_result"
    }
   ],
   "source": [
    "df_new.isnull().sum()"
   ]
  },
  {
   "cell_type": "code",
   "execution_count": 60,
   "id": "4e0728d6-ea3e-4f5d-8722-f3ee3180a4a0",
   "metadata": {},
   "outputs": [],
   "source": [
    "df_new= df.dropna(axis = 0)"
   ]
  },
  {
   "cell_type": "code",
   "execution_count": 62,
   "id": "73e39c87-c7c5-4421-9d74-f67f9663bdde",
   "metadata": {},
   "outputs": [
    {
     "data": {
      "text/plain": [
       "VIN (1-10)                                           0\n",
       "County                                               0\n",
       "City                                                 0\n",
       "State                                                0\n",
       "Postal Code                                          0\n",
       "Model Year                                           0\n",
       "Make                                                 0\n",
       "Model                                                0\n",
       "Electric Vehicle Type                                0\n",
       "Clean Alternative Fuel Vehicle (CAFV) Eligibility    0\n",
       "Electric Range                                       0\n",
       "Base MSRP                                            0\n",
       "Legislative District                                 0\n",
       "DOL Vehicle ID                                       0\n",
       "Vehicle Location                                     0\n",
       "Electric Utility                                     0\n",
       "2020 Census Tract                                    0\n",
       "dtype: int64"
      ]
     },
     "execution_count": 62,
     "metadata": {},
     "output_type": "execute_result"
    }
   ],
   "source": [
    "df_new.isnull().sum()"
   ]
  },
  {
   "cell_type": "markdown",
   "id": "355fc86d-37e7-4f92-a967-ce2243d2400a",
   "metadata": {},
   "source": [
    "##### 3. Finding duplicate values"
   ]
  },
  {
   "cell_type": "code",
   "execution_count": 64,
   "id": "e64981f2-348e-4358-bc08-2a06f7c1995b",
   "metadata": {},
   "outputs": [
    {
     "name": "stderr",
     "output_type": "stream",
     "text": [
      "C:\\Users\\nodnarb\\AppData\\Local\\Temp\\ipykernel_30128\\3851352711.py:1: UserWarning: Boolean Series key will be reindexed to match DataFrame index.\n",
      "  df_dups = df_new[df.duplicated()]\n"
     ]
    }
   ],
   "source": [
    "df_dups = df_new[df.duplicated()]"
   ]
  },
  {
   "cell_type": "code",
   "execution_count": 17,
   "id": "93f08c37-5849-4cf0-ae6b-b5e390fb9a56",
   "metadata": {},
   "outputs": [
    {
     "data": {
      "text/html": [
       "<div>\n",
       "<style scoped>\n",
       "    .dataframe tbody tr th:only-of-type {\n",
       "        vertical-align: middle;\n",
       "    }\n",
       "\n",
       "    .dataframe tbody tr th {\n",
       "        vertical-align: top;\n",
       "    }\n",
       "\n",
       "    .dataframe thead th {\n",
       "        text-align: right;\n",
       "    }\n",
       "</style>\n",
       "<table border=\"1\" class=\"dataframe\">\n",
       "  <thead>\n",
       "    <tr style=\"text-align: right;\">\n",
       "      <th></th>\n",
       "      <th>VIN (1-10)</th>\n",
       "      <th>County</th>\n",
       "      <th>City</th>\n",
       "      <th>State</th>\n",
       "      <th>Postal Code</th>\n",
       "      <th>Model Year</th>\n",
       "      <th>Make</th>\n",
       "      <th>Model</th>\n",
       "      <th>Electric Vehicle Type</th>\n",
       "      <th>Clean Alternative Fuel Vehicle (CAFV) Eligibility</th>\n",
       "      <th>Electric Range</th>\n",
       "      <th>Base MSRP</th>\n",
       "      <th>Legislative District</th>\n",
       "      <th>DOL Vehicle ID</th>\n",
       "      <th>Vehicle Location</th>\n",
       "      <th>Electric Utility</th>\n",
       "      <th>2020 Census Tract</th>\n",
       "    </tr>\n",
       "  </thead>\n",
       "  <tbody>\n",
       "  </tbody>\n",
       "</table>\n",
       "</div>"
      ],
      "text/plain": [
       "Empty DataFrame\n",
       "Columns: [VIN (1-10), County, City, State, Postal Code, Model Year, Make, Model, Electric Vehicle Type, Clean Alternative Fuel Vehicle (CAFV) Eligibility, Electric Range, Base MSRP, Legislative District, DOL Vehicle ID, Vehicle Location, Electric Utility, 2020 Census Tract]\n",
       "Index: []"
      ]
     },
     "execution_count": 17,
     "metadata": {},
     "output_type": "execute_result"
    }
   ],
   "source": [
    "df_dups"
   ]
  },
  {
   "cell_type": "markdown",
   "id": "142f9ee4-05cc-40e9-abfa-8565e3ee238d",
   "metadata": {},
   "source": [
    "##### 4. Identifying mixed data types"
   ]
  },
  {
   "cell_type": "code",
   "execution_count": 19,
   "id": "65c1aadb-cd36-43dc-bc16-4ee442d5825f",
   "metadata": {},
   "outputs": [
    {
     "name": "stdout",
     "output_type": "stream",
     "text": [
      "County\n",
      "City\n",
      "Model\n",
      "Vehicle Location\n",
      "Electric Utility\n"
     ]
    }
   ],
   "source": [
    "for col in df.columns.tolist():\n",
    "    weird = (df[[col]].map(type) != df[[col]].iloc[0].apply(type)).any(axis = 1)\n",
    "    if len (df[weird]) > 0:\n",
    "        print (col)"
   ]
  },
  {
   "cell_type": "markdown",
   "id": "bb9ee9bd-a8c2-4c62-afd8-a76428b0b1ed",
   "metadata": {},
   "source": [
    "##### 5. Changing data types "
   ]
  },
  {
   "cell_type": "code",
   "execution_count": 21,
   "id": "81723e0b-4697-4aed-a513-668f9a16e47f",
   "metadata": {},
   "outputs": [
    {
     "name": "stderr",
     "output_type": "stream",
     "text": [
      "C:\\Users\\nodnarb\\AppData\\Local\\Temp\\ipykernel_30128\\4141373498.py:1: SettingWithCopyWarning: \n",
      "A value is trying to be set on a copy of a slice from a DataFrame.\n",
      "Try using .loc[row_indexer,col_indexer] = value instead\n",
      "\n",
      "See the caveats in the documentation: https://pandas.pydata.org/pandas-docs/stable/user_guide/indexing.html#returning-a-view-versus-a-copy\n",
      "  df_new['Postal Code'] = df['Postal Code'].astype('str')\n"
     ]
    }
   ],
   "source": [
    "df_new['Postal Code'] = df['Postal Code'].astype('str')"
   ]
  },
  {
   "cell_type": "markdown",
   "id": "a05d7c0a-3fec-4a79-86a7-ae1a00c6f979",
   "metadata": {},
   "source": [
    "##### 6. Removing rows with 0 values"
   ]
  },
  {
   "cell_type": "code",
   "execution_count": 23,
   "id": "388a1289-83eb-416d-a626-f21b4a423bed",
   "metadata": {},
   "outputs": [],
   "source": [
    "# Electric Range 0 rows"
   ]
  },
  {
   "cell_type": "code",
   "execution_count": 82,
   "id": "0e0591bf-db73-4b5a-a6e8-572423db4902",
   "metadata": {},
   "outputs": [],
   "source": [
    "df1 = df_new.loc[df['Electric Range'] > 0]"
   ]
  },
  {
   "cell_type": "code",
   "execution_count": 84,
   "id": "96fee2bf-1ba6-49be-880c-43e865089b06",
   "metadata": {},
   "outputs": [
    {
     "data": {
      "text/plain": [
       "(91259, 12)"
      ]
     },
     "execution_count": 84,
     "metadata": {},
     "output_type": "execute_result"
    }
   ],
   "source": [
    "df1.shape"
   ]
  },
  {
   "cell_type": "markdown",
   "id": "99ee4714-99b5-466f-bb1d-befde4fc3b24",
   "metadata": {},
   "source": [
    "#### Descriptive statistics"
   ]
  },
  {
   "cell_type": "code",
   "execution_count": 86,
   "id": "20c44001-41dd-4c1f-8b5a-bd51dd933e0b",
   "metadata": {},
   "outputs": [
    {
     "data": {
      "text/html": [
       "<div>\n",
       "<style scoped>\n",
       "    .dataframe tbody tr th:only-of-type {\n",
       "        vertical-align: middle;\n",
       "    }\n",
       "\n",
       "    .dataframe tbody tr th {\n",
       "        vertical-align: top;\n",
       "    }\n",
       "\n",
       "    .dataframe thead th {\n",
       "        text-align: right;\n",
       "    }\n",
       "</style>\n",
       "<table border=\"1\" class=\"dataframe\">\n",
       "  <thead>\n",
       "    <tr style=\"text-align: right;\">\n",
       "      <th></th>\n",
       "      <th>County</th>\n",
       "      <th>City</th>\n",
       "      <th>State</th>\n",
       "      <th>Postal Code</th>\n",
       "      <th>Model Year</th>\n",
       "      <th>Make</th>\n",
       "      <th>Model</th>\n",
       "      <th>Electric Vehicle Type</th>\n",
       "      <th>Clean Alternative Fuel Vehicle (CAFV) Eligibility</th>\n",
       "      <th>Electric Range</th>\n",
       "      <th>Vehicle Location</th>\n",
       "      <th>Electric Utility</th>\n",
       "    </tr>\n",
       "  </thead>\n",
       "  <tbody>\n",
       "    <tr>\n",
       "      <th>0</th>\n",
       "      <td>Kitsap</td>\n",
       "      <td>Seabeck</td>\n",
       "      <td>WA</td>\n",
       "      <td>98380.0</td>\n",
       "      <td>2023</td>\n",
       "      <td>TOYOTA</td>\n",
       "      <td>RAV4 PRIME</td>\n",
       "      <td>Plug-in Hybrid Electric Vehicle (PHEV)</td>\n",
       "      <td>Clean Alternative Fuel Vehicle Eligible</td>\n",
       "      <td>42.0</td>\n",
       "      <td>POINT (-122.8728334 47.5798304)</td>\n",
       "      <td>PUGET SOUND ENERGY INC</td>\n",
       "    </tr>\n",
       "    <tr>\n",
       "      <th>1</th>\n",
       "      <td>Kitsap</td>\n",
       "      <td>Bremerton</td>\n",
       "      <td>WA</td>\n",
       "      <td>98312.0</td>\n",
       "      <td>2018</td>\n",
       "      <td>NISSAN</td>\n",
       "      <td>LEAF</td>\n",
       "      <td>Battery Electric Vehicle (BEV)</td>\n",
       "      <td>Clean Alternative Fuel Vehicle Eligible</td>\n",
       "      <td>151.0</td>\n",
       "      <td>POINT (-122.6961203 47.5759584)</td>\n",
       "      <td>PUGET SOUND ENERGY INC</td>\n",
       "    </tr>\n",
       "    <tr>\n",
       "      <th>2</th>\n",
       "      <td>King</td>\n",
       "      <td>Seattle</td>\n",
       "      <td>WA</td>\n",
       "      <td>98101.0</td>\n",
       "      <td>2020</td>\n",
       "      <td>TESLA</td>\n",
       "      <td>MODEL 3</td>\n",
       "      <td>Battery Electric Vehicle (BEV)</td>\n",
       "      <td>Clean Alternative Fuel Vehicle Eligible</td>\n",
       "      <td>266.0</td>\n",
       "      <td>POINT (-122.3340795 47.6099315)</td>\n",
       "      <td>CITY OF SEATTLE - (WA)|CITY OF TACOMA - (WA)</td>\n",
       "    </tr>\n",
       "    <tr>\n",
       "      <th>3</th>\n",
       "      <td>King</td>\n",
       "      <td>Seattle</td>\n",
       "      <td>WA</td>\n",
       "      <td>98125.0</td>\n",
       "      <td>2014</td>\n",
       "      <td>NISSAN</td>\n",
       "      <td>LEAF</td>\n",
       "      <td>Battery Electric Vehicle (BEV)</td>\n",
       "      <td>Clean Alternative Fuel Vehicle Eligible</td>\n",
       "      <td>84.0</td>\n",
       "      <td>POINT (-122.304356 47.715668)</td>\n",
       "      <td>CITY OF SEATTLE - (WA)|CITY OF TACOMA - (WA)</td>\n",
       "    </tr>\n",
       "    <tr>\n",
       "      <th>4</th>\n",
       "      <td>Thurston</td>\n",
       "      <td>Yelm</td>\n",
       "      <td>WA</td>\n",
       "      <td>98597.0</td>\n",
       "      <td>2017</td>\n",
       "      <td>CHEVROLET</td>\n",
       "      <td>BOLT EV</td>\n",
       "      <td>Battery Electric Vehicle (BEV)</td>\n",
       "      <td>Clean Alternative Fuel Vehicle Eligible</td>\n",
       "      <td>238.0</td>\n",
       "      <td>POINT (-122.5715761 46.9095798)</td>\n",
       "      <td>PUGET SOUND ENERGY INC</td>\n",
       "    </tr>\n",
       "  </tbody>\n",
       "</table>\n",
       "</div>"
      ],
      "text/plain": [
       "     County       City State  Postal Code  Model Year       Make       Model  \\\n",
       "0    Kitsap    Seabeck    WA      98380.0        2023     TOYOTA  RAV4 PRIME   \n",
       "1    Kitsap  Bremerton    WA      98312.0        2018     NISSAN        LEAF   \n",
       "2      King    Seattle    WA      98101.0        2020      TESLA     MODEL 3   \n",
       "3      King    Seattle    WA      98125.0        2014     NISSAN        LEAF   \n",
       "4  Thurston       Yelm    WA      98597.0        2017  CHEVROLET     BOLT EV   \n",
       "\n",
       "                    Electric Vehicle Type  \\\n",
       "0  Plug-in Hybrid Electric Vehicle (PHEV)   \n",
       "1          Battery Electric Vehicle (BEV)   \n",
       "2          Battery Electric Vehicle (BEV)   \n",
       "3          Battery Electric Vehicle (BEV)   \n",
       "4          Battery Electric Vehicle (BEV)   \n",
       "\n",
       "  Clean Alternative Fuel Vehicle (CAFV) Eligibility  Electric Range  \\\n",
       "0           Clean Alternative Fuel Vehicle Eligible            42.0   \n",
       "1           Clean Alternative Fuel Vehicle Eligible           151.0   \n",
       "2           Clean Alternative Fuel Vehicle Eligible           266.0   \n",
       "3           Clean Alternative Fuel Vehicle Eligible            84.0   \n",
       "4           Clean Alternative Fuel Vehicle Eligible           238.0   \n",
       "\n",
       "                  Vehicle Location  \\\n",
       "0  POINT (-122.8728334 47.5798304)   \n",
       "1  POINT (-122.6961203 47.5759584)   \n",
       "2  POINT (-122.3340795 47.6099315)   \n",
       "3    POINT (-122.304356 47.715668)   \n",
       "4  POINT (-122.5715761 46.9095798)   \n",
       "\n",
       "                               Electric Utility  \n",
       "0                        PUGET SOUND ENERGY INC  \n",
       "1                        PUGET SOUND ENERGY INC  \n",
       "2  CITY OF SEATTLE - (WA)|CITY OF TACOMA - (WA)  \n",
       "3  CITY OF SEATTLE - (WA)|CITY OF TACOMA - (WA)  \n",
       "4                        PUGET SOUND ENERGY INC  "
      ]
     },
     "execution_count": 86,
     "metadata": {},
     "output_type": "execute_result"
    }
   ],
   "source": [
    "df1.head()"
   ]
  },
  {
   "cell_type": "markdown",
   "id": "278167cf-5afe-4620-bb2d-d4e9be5ad69f",
   "metadata": {},
   "source": [
    "#### Exporting cleaned data"
   ]
  },
  {
   "cell_type": "code",
   "execution_count": 88,
   "id": "1d551c2a-77d0-4920-a2d9-53bad3020462",
   "metadata": {},
   "outputs": [],
   "source": [
    "df1.to_csv(os.path.join(path, '01 Data', 'electric_vehicles_cleaned1.csv'))"
   ]
  }
 ],
 "metadata": {
  "kernelspec": {
   "display_name": "Python 3 (ipykernel)",
   "language": "python",
   "name": "python3"
  },
  "language_info": {
   "codemirror_mode": {
    "name": "ipython",
    "version": 3
   },
   "file_extension": ".py",
   "mimetype": "text/x-python",
   "name": "python",
   "nbconvert_exporter": "python",
   "pygments_lexer": "ipython3",
   "version": "3.12.4"
  }
 },
 "nbformat": 4,
 "nbformat_minor": 5
}
